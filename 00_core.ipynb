{
 "cells": [
  {
   "cell_type": "code",
   "execution_count": null,
   "metadata": {},
   "outputs": [],
   "source": [
    "# default_exp core"
   ]
  },
  {
   "cell_type": "markdown",
   "metadata": {},
   "source": [
    "# Loss Landscape Curvature\n",
    "\n",
    "> Applying diffusion curvature and related ideas to better understand loss landscapes"
   ]
  },
  {
   "cell_type": "code",
   "execution_count": null,
   "metadata": {},
   "outputs": [],
   "source": [
    "#hide\n",
    "from nbdev.showdoc import *"
   ]
  },
  {
   "cell_type": "code",
   "execution_count": null,
   "metadata": {},
   "outputs": [
    {
     "name": "stdout",
     "output_type": "stream",
     "text": [
      "Converted 00_core.ipynb.\n",
      "Converted index.ipynb.\n"
     ]
    }
   ],
   "source": [
    "!nbdev_build_lib"
   ]
  },
  {
   "cell_type": "code",
   "execution_count": null,
   "metadata": {},
   "outputs": [
    {
     "name": "stdout",
     "output_type": "stream",
     "text": [
      "converting: /Users/adjourner/Projects/loss-landscape-curvature/00_core.ipynb\n",
      "converting: /Users/adjourner/Projects/loss-landscape-curvature/index.ipynb\n",
      "An error occurred while executing the following cell:\n",
      "------------------\n",
      "from nbdev.showdoc import show_doc\n",
      "from loss-landscape-curvature.core import *\n",
      "------------------\n",
      "\n",
      "\u001b[0;36m  Input \u001b[0;32mIn [1]\u001b[0;36m\u001b[0m\n",
      "\u001b[0;31m    from loss-landscape-curvature.core import *\u001b[0m\n",
      "\u001b[0m             ^\u001b[0m\n",
      "\u001b[0;31mSyntaxError\u001b[0m\u001b[0;31m:\u001b[0m invalid syntax\n",
      "\n",
      "SyntaxError: invalid syntax (4226213571.py, line 2)\n",
      "\n",
      "Conversion failed on the following:\n",
      "00_core.ipynb\n",
      "Traceback (most recent call last):\n",
      "  File \"/Users/adjourner/miniforge3/envs/loss-landscape-curvature/bin/nbdev_build_docs\", line 8, in <module>\n",
      "    sys.exit(nbdev_build_docs())\n",
      "  File \"/Users/adjourner/miniforge3/envs/loss-landscape-curvature/lib/python3.8/site-packages/fastcore/script.py\", line 113, in _f\n",
      "    tfunc(**merge(args, args_from_prog(func, xtra)))\n",
      "  File \"/Users/adjourner/miniforge3/envs/loss-landscape-curvature/lib/python3.8/site-packages/nbdev/export2html.py\", line 649, in nbdev_build_docs\n",
      "    if fname is None: make_sidebar()\n",
      "  File \"/Users/adjourner/miniforge3/envs/loss-landscape-curvature/lib/python3.8/site-packages/nbdev/export2html.py\", line 717, in make_sidebar\n",
      "    create_default_sidebar()\n",
      "  File \"/Users/adjourner/miniforge3/envs/loss-landscape-curvature/lib/python3.8/site-packages/nbdev/export2html.py\", line 709, in create_default_sidebar\n",
      "    dic = {get_config().lib_name: _create_default_sidebar()}\n",
      "  File \"/Users/adjourner/miniforge3/envs/loss-landscape-curvature/lib/python3.8/site-packages/nbdev/export2html.py\", line 701, in _create_default_sidebar\n",
      "    for t,f in groupby(names, _get_title).items():\n",
      "  File \"/Users/adjourner/miniforge3/envs/loss-landscape-curvature/lib/python3.8/site-packages/fastcore/basics.py\", line 539, in groupby\n",
      "    for o in x: res.setdefault(key(o), []).append(val(o))\n",
      "  File \"/Users/adjourner/miniforge3/envs/loss-landscape-curvature/lib/python3.8/site-packages/nbdev/export2html.py\", line 690, in _get_title\n",
      "    with open(fname, 'r') as f: code = f.read()\n",
      "FileNotFoundError: [Errno 2] No such file or directory: '/Users/adjourner/Projects/loss-landscape-curvature/docs/core.html'\n"
     ]
    }
   ],
   "source": [
    "!nbdev_build_docs"
   ]
  },
  {
   "cell_type": "code",
   "execution_count": null,
   "metadata": {},
   "outputs": [],
   "source": []
  }
 ],
 "metadata": {
  "kernelspec": {
   "display_name": "Python 3.8.13 ('loss-landscape-curvature')",
   "language": "python",
   "name": "python3"
  }
 },
 "nbformat": 4,
 "nbformat_minor": 2
}
